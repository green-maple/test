{
 "cells": [
  {
   "cell_type": "markdown",
   "metadata": {},
   "source": [
    "# Arrow/Parquet Challenge"
   ]
  },
  {
   "cell_type": "code",
   "execution_count": null,
   "metadata": {},
   "outputs": [],
   "source": [
    "pip install awswrangler"
   ]
  },
  {
   "cell_type": "code",
   "execution_count": 6,
   "metadata": {},
   "outputs": [
    {
     "name": "stdout",
     "output_type": "stream",
     "text": [
      "   account    product        date  quantity\n",
      "0        1      apple  1631138217         9\n",
      "1        2     banana  1631208217         9\n",
      "2        3  pineapple  1631308217        11\n",
      "3        4       plum  1631378217         8\n",
      "4        5     orange  1631478217        11\n",
      "5        6      guava  1631648217         3\n",
      "6        7       kiwi  1631548217        14\n"
     ]
    }
   ],
   "source": [
    "import awswrangler as wr\n",
    "\n",
    "path = f\"s3://unravel-saas-demo/test/sales.parquet\"\n",
    "data = wr.s3.read_parquet(path)\n",
    "\n",
    "print(data)"
   ]
  },
  {
   "cell_type": "code",
   "execution_count": 58,
   "metadata": {},
   "outputs": [],
   "source": [
    "def analyze(df):\n",
    "    df['date'] = pd.to_datetime(df['date'], unit='s')\n",
    "    print(df)\n",
    "    print(\"------------\\n\")\n",
    "    s = df['date']\n",
    "    print(s)\n",
    "    print(\"------------\\n\")\n",
    "    #s1 = pd.date_range(s[0], s[4], freq='D').to_series()\n",
    "    print(df['date'].dt.dayofweek)\n",
    "    print(\"------------\\n\")\n",
    "    print(df['date'].dt.day_name())\n",
    "\n",
    "    print(\"------------\\n\")\n",
    "    sum_of_quantity = df['quantity'].sum()\n",
    "    print(f\"sum of quantity: {sum_of_quantity}\")\n",
    "\n",
    "    print(\"------------\\n\")\n",
    "    var_of_quantity = df.loc[:, \"quantity\"].var()\n",
    "    print(f\"variance of quantity: {var_of_quantity}\")\n",
    "\n",
    "    accounts = df['account'].unique()\n",
    "    unique_accounts = pd.Series(accounts)\n",
    "    print(\"------------\\n\")\n",
    "    print(type(unique_accounts))\n",
    "    #print(f\"unique accounts: {unique_accounts}\")\n",
    "    for account, value in unique_accounts.items():\n",
    "        print(f\"account #: {account}, Value: {value}\")\n",
    "\n",
    "    print(\"------------\\n\")\n",
    "    products = df['product'].unique()\n",
    "    unique_products = pd.Series(products)\n",
    "    #print(f\"unique products: {unique_products}\")\n",
    "    for product, value in unique_products.items():\n",
    "        print(f\"product #: {product}, Value: {value}\")\n",
    "\n",
    "    print(\"------------\\n\")\n",
    "    row_count = len(df.index)\n",
    "    print(f\"Number of rows: {row_count}\")\n"
   ]
  },
  {
   "cell_type": "markdown",
   "metadata": {},
   "source": [
    "## Compute"
   ]
  },
  {
   "cell_type": "code",
   "execution_count": 59,
   "metadata": {},
   "outputs": [
    {
     "name": "stdout",
     "output_type": "stream",
     "text": [
      "   account    product                date  quantity\n",
      "0        1      apple 2021-09-08 21:56:57         9\n",
      "1        2     banana 2021-09-09 17:23:37         9\n",
      "2        3  pineapple 2021-09-10 21:10:17        11\n",
      "3        4       plum 2021-09-11 16:36:57         8\n",
      "4        5     orange 2021-09-12 20:23:37        11\n",
      "5        6      guava 2021-09-14 19:36:57         3\n",
      "6        7       kiwi 2021-09-13 15:50:17        14\n",
      "------------\n",
      "\n",
      "0   2021-09-08 21:56:57\n",
      "1   2021-09-09 17:23:37\n",
      "2   2021-09-10 21:10:17\n",
      "3   2021-09-11 16:36:57\n",
      "4   2021-09-12 20:23:37\n",
      "5   2021-09-14 19:36:57\n",
      "6   2021-09-13 15:50:17\n",
      "Name: date, dtype: datetime64[ns]\n",
      "------------\n",
      "\n",
      "0    2\n",
      "1    3\n",
      "2    4\n",
      "3    5\n",
      "4    6\n",
      "5    1\n",
      "6    0\n",
      "Name: date, dtype: int64\n",
      "------------\n",
      "\n",
      "0    Wednesday\n",
      "1     Thursday\n",
      "2       Friday\n",
      "3     Saturday\n",
      "4       Sunday\n",
      "5      Tuesday\n",
      "6       Monday\n",
      "Name: date, dtype: object\n",
      "------------\n",
      "\n",
      "sum of quantity: 65\n",
      "------------\n",
      "\n",
      "variance of quantity: 11.571428571428571\n",
      "------------\n",
      "\n",
      "<class 'pandas.core.series.Series'>\n",
      "account #: 0, Value: 1\n",
      "account #: 1, Value: 2\n",
      "account #: 2, Value: 3\n",
      "account #: 3, Value: 4\n",
      "account #: 4, Value: 5\n",
      "account #: 5, Value: 6\n",
      "account #: 6, Value: 7\n",
      "------------\n",
      "\n",
      "product #: 0, Value: apple\n",
      "product #: 1, Value: banana\n",
      "product #: 2, Value: pineapple\n",
      "product #: 3, Value: plum\n",
      "product #: 4, Value: orange\n",
      "product #: 5, Value: guava\n",
      "product #: 6, Value: kiwi\n",
      "------------\n",
      "\n",
      "Number of rows: 7\n"
     ]
    }
   ],
   "source": [
    "import pandas as pd\n",
    "\n",
    "analyze(data)"
   ]
  },
  {
   "cell_type": "code",
   "execution_count": 14,
   "metadata": {},
   "outputs": [],
   "source": [
    "import pyarrow as pa\n",
    "import pyarrow.parquet as pq\n",
    "\n",
    "from pyarrow import fs"
   ]
  },
  {
   "cell_type": "code",
   "execution_count": 23,
   "metadata": {},
   "outputs": [
    {
     "name": "stdout",
     "output_type": "stream",
     "text": [
      "pyarrow.RecordBatch\n",
      "account: int64\n",
      "product: string\n",
      "date: timestamp[ns]\n",
      "quantity: int64\n"
     ]
    }
   ],
   "source": [
    "record_batch = pa.RecordBatch.from_pandas(data)\n",
    "print(record_batch)\n"
   ]
  },
  {
   "cell_type": "code",
   "execution_count": 65,
   "metadata": {},
   "outputs": [
    {
     "data": {
      "text/plain": [
       "'\\n    pq_file = pq.ParquetFile(path)\\n    print(pq_file.metadata)\\n    print(pq_file.schema)\\n    print(pq_file.metadata.row_group(0))\\n    print(pq_file.metadata.row_group(0).column(0))\\n'"
      ]
     },
     "execution_count": 65,
     "metadata": {},
     "output_type": "execute_result"
    }
   ],
   "source": [
    "def get_parquet_metadata():\n",
    "    table = pq.read_table(path)\n",
    "    return table\n",
    "    \n",
    "'''\n",
    "    pq_file = pq.ParquetFile(path)\n",
    "    print(pq_file.metadata)\n",
    "    print(pq_file.schema)\n",
    "    print(pq_file.metadata.row_group(0))\n",
    "    print(pq_file.metadata.row_group(0).column(0))\n",
    "'''    \n"
   ]
  },
  {
   "cell_type": "code",
   "execution_count": 66,
   "metadata": {},
   "outputs": [
    {
     "name": "stdout",
     "output_type": "stream",
     "text": [
      "pyarrow.Table\n",
      "account: int64\n",
      "product: string\n",
      "date: int64\n",
      "quantity: int64\n"
     ]
    }
   ],
   "source": [
    "table = get_parquet_metadata()\n",
    "\n",
    "print(table)"
   ]
  },
  {
   "cell_type": "code",
   "execution_count": 38,
   "metadata": {
    "scrolled": true
   },
   "outputs": [
    {
     "name": "stdout",
     "output_type": "stream",
     "text": [
      "[pyarrow.RecordBatch\n",
      "account: int64\n",
      "product: string\n",
      "date: int64\n",
      "quantity: int64]\n"
     ]
    }
   ],
   "source": [
    "batch = pa.Table.to_batches(table)\n",
    "print(batch)"
   ]
  },
  {
   "cell_type": "code",
   "execution_count": 46,
   "metadata": {},
   "outputs": [
    {
     "name": "stdout",
     "output_type": "stream",
     "text": [
      "mean of quantity: 9.285714285714286\n"
     ]
    }
   ],
   "source": [
    "mean = pa.compute.mean(table[3])\n",
    "print(f\"mean of quantity: {mean}\")"
   ]
  },
  {
   "cell_type": "markdown",
   "metadata": {},
   "source": [
    "## Update column data"
   ]
  },
  {
   "cell_type": "code",
   "execution_count": 47,
   "metadata": {
    "scrolled": true
   },
   "outputs": [
    {
     "name": "stdout",
     "output_type": "stream",
     "text": [
      "[\n",
      "  [\n",
      "    9,\n",
      "    9,\n",
      "    11,\n",
      "    8,\n",
      "    11,\n",
      "    3,\n",
      "    14\n",
      "  ]\n",
      "]\n"
     ]
    }
   ],
   "source": [
    "print(table[3])"
   ]
  },
  {
   "cell_type": "code",
   "execution_count": 52,
   "metadata": {},
   "outputs": [
    {
     "name": "stdout",
     "output_type": "stream",
     "text": [
      "pyarrow.Table\n",
      "account: int64\n",
      "product: string\n",
      "date: int64\n",
      "quantity: int64\n"
     ]
    }
   ],
   "source": [
    "col_quantity = pa.array([10, 9, 8, 7, 6, 5, 4])\n",
    "t1 = pa.Table.set_column(table, 3, 'quantity', col_quantity)\n",
    "\n",
    "print(t1)"
   ]
  },
  {
   "cell_type": "code",
   "execution_count": 53,
   "metadata": {},
   "outputs": [
    {
     "name": "stdout",
     "output_type": "stream",
     "text": [
      "[\n",
      "  [\n",
      "    10,\n",
      "    9,\n",
      "    8,\n",
      "    7,\n",
      "    6,\n",
      "    5,\n",
      "    4\n",
      "  ]\n",
      "]\n"
     ]
    }
   ],
   "source": [
    "print(t1[3])"
   ]
  },
  {
   "cell_type": "code",
   "execution_count": 70,
   "metadata": {},
   "outputs": [
    {
     "name": "stdout",
     "output_type": "stream",
     "text": [
      "[\n",
      "  [\n",
      "    1,\n",
      "    2,\n",
      "    3,\n",
      "    4,\n",
      "    5,\n",
      "    6,\n",
      "    7\n",
      "  ]\n",
      "]\n",
      "[\n",
      "  [\n",
      "    \"apple\",\n",
      "    \"banana\",\n",
      "    \"pineapple\",\n",
      "    \"plum\",\n",
      "    \"orange\",\n",
      "    \"guava\",\n",
      "    \"kiwi\"\n",
      "  ]\n",
      "]\n",
      "[\n",
      "  [\n",
      "    1631138217,\n",
      "    1631208217,\n",
      "    1631308217,\n",
      "    1631378217,\n",
      "    1631478217,\n",
      "    1631648217,\n",
      "    1631548217\n",
      "  ]\n",
      "]\n",
      "[\n",
      "  [\n",
      "    9,\n",
      "    9,\n",
      "    11,\n",
      "    8,\n",
      "    11,\n",
      "    3,\n",
      "    14\n",
      "  ]\n",
      "]\n"
     ]
    }
   ],
   "source": [
    "#t2 = pa.Table.from_batches(table)\n",
    "\n",
    "#t_all = pa.concat_tables(table, )\n",
    "\n",
    "for i in table:\n",
    "    print(i)"
   ]
  },
  {
   "cell_type": "code",
   "execution_count": 98,
   "metadata": {},
   "outputs": [
    {
     "name": "stdout",
     "output_type": "stream",
     "text": [
      "4\n",
      "8\n"
     ]
    }
   ],
   "source": [
    "print(len(table.columns))\n",
    "\n",
    "l = []\n",
    "\n",
    "for x in table:\n",
    "    l.append(pa.ChunkedArray.iterchunks(x))\n",
    "\n",
    "for x in t1:\n",
    "    l.append(pa.ChunkedArray.iterchunks(x))\n",
    "    \n",
    "print(len(l))"
   ]
  },
  {
   "cell_type": "code",
   "execution_count": 100,
   "metadata": {},
   "outputs": [],
   "source": [
    "path = f\"s3://unravel-saas-demo/test/arrow_test.parquet\""
   ]
  },
  {
   "cell_type": "code",
   "execution_count": 101,
   "metadata": {},
   "outputs": [],
   "source": [
    "def read_from_s3():\n",
    "    return wr.s3.read_parquet([path])"
   ]
  },
  {
   "cell_type": "code",
   "execution_count": 102,
   "metadata": {},
   "outputs": [
    {
     "name": "stdout",
     "output_type": "stream",
     "text": [
      "   account     product        date  quantity\n",
      "0        1       apple  1631734436        10\n",
      "1        2      banana  1631664436         4\n",
      "2        3       grape  1631534436        14\n",
      "3        4   pineapple  1631434436        10\n",
      "4        5       guava  1631334436        10\n",
      "5        6  watermelon  1631234436         4\n",
      "6        7        plum  1631134436        16\n"
     ]
    }
   ],
   "source": [
    "s3_data_df = read_from_s3()\n",
    "print(s3_data_df)"
   ]
  },
  {
   "cell_type": "markdown",
   "metadata": {},
   "source": [
    "## Computations"
   ]
  },
  {
   "cell_type": "code",
   "execution_count": 110,
   "metadata": {},
   "outputs": [
    {
     "name": "stdout",
     "output_type": "stream",
     "text": [
      "7\n"
     ]
    }
   ],
   "source": [
    "# Get field value count\n",
    "count = pa.compute.count(table[0])\n",
    "print(count)"
   ]
  },
  {
   "cell_type": "code",
   "execution_count": 112,
   "metadata": {},
   "outputs": [
    {
     "name": "stdout",
     "output_type": "stream",
     "text": [
      "4.0\n"
     ]
    }
   ],
   "source": [
    "# Get mean of array data\n",
    "mean = pa.compute.mean(table[0])\n",
    "print(mean)"
   ]
  },
  {
   "cell_type": "code",
   "execution_count": 113,
   "metadata": {},
   "outputs": [
    {
     "name": "stdout",
     "output_type": "stream",
     "text": [
      "65\n"
     ]
    }
   ],
   "source": [
    "# Get sum of 'Quantity' field\n",
    "sum = pa.compute.sum(table[3])\n",
    "print(sum)"
   ]
  },
  {
   "cell_type": "code",
   "execution_count": 114,
   "metadata": {},
   "outputs": [
    {
     "name": "stdout",
     "output_type": "stream",
     "text": [
      "9.918367346938776\n"
     ]
    }
   ],
   "source": [
    "# Get variance of quantity\n",
    "var = pa.compute.variance(table[3])\n",
    "print(var)"
   ]
  },
  {
   "cell_type": "code",
   "execution_count": 118,
   "metadata": {},
   "outputs": [
    {
     "name": "stdout",
     "output_type": "stream",
     "text": [
      "[\n",
      "  1,\n",
      "  2,\n",
      "  3,\n",
      "  4,\n",
      "  5,\n",
      "  6,\n",
      "  7\n",
      "]\n"
     ]
    }
   ],
   "source": [
    "# Get number of unique account\n",
    "uniq_account = pa.compute.unique(table[0])\n",
    "print(uniq_account)"
   ]
  },
  {
   "cell_type": "code",
   "execution_count": 117,
   "metadata": {},
   "outputs": [
    {
     "name": "stdout",
     "output_type": "stream",
     "text": [
      "[\n",
      "  \"apple\",\n",
      "  \"banana\",\n",
      "  \"pineapple\",\n",
      "  \"plum\",\n",
      "  \"orange\",\n",
      "  \"guava\",\n",
      "  \"kiwi\"\n",
      "]\n"
     ]
    }
   ],
   "source": [
    "# Get number of unique product\n",
    "uniq_product = pa.compute.unique(table[1])\n",
    "print(uniq_product)"
   ]
  }
 ],
 "metadata": {
  "kernelspec": {
   "display_name": "Python 3",
   "language": "python",
   "name": "python3"
  },
  "language_info": {
   "codemirror_mode": {
    "name": "ipython",
    "version": 3
   },
   "file_extension": ".py",
   "mimetype": "text/x-python",
   "name": "python",
   "nbconvert_exporter": "python",
   "pygments_lexer": "ipython3",
   "version": "3.7.3"
  }
 },
 "nbformat": 4,
 "nbformat_minor": 2
}
